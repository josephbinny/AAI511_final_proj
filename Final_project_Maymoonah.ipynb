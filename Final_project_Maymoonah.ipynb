{
  "nbformat": 4,
  "nbformat_minor": 0,
  "metadata": {
    "colab": {
      "provenance": []
    },
    "kernelspec": {
      "name": "python3",
      "display_name": "Python 3"
    },
    "language_info": {
      "name": "python"
    }
  },
  "cells": [
    {
      "cell_type": "markdown",
      "source": [
        "# Instructions:\n",
        "\n",
        "1. Data Collection: Data is collected and provided to you.\n",
        "2. Data Pre-processing: Convert the musical scores into a format suitable for deep learning models. This involves converting the musical scores into MIDI files and applying data augmentation techniques.\n",
        "3. Feature Extraction: Extract features from the MIDI files, such as notes, chords, and tempo, using music analysis tools.\n",
        "4. Model Building: Develop a deep learning model using LSTM and CNN architectures to classify the musical scores according to the composer.\n",
        "5. Model Training: Train the deep learning model using the pre-processed and feature-extracted data.\n",
        "6. Model Evaluation: Evaluate the performance of the deep learning model using accuracy, precision, and recall metrics.\n",
        "7. Model Optimization: Optimize the deep learning model by fine-tuning hyperparameters"
      ],
      "metadata": {
        "id": "WHnQJ40p56zv"
      }
    },
    {
      "cell_type": "markdown",
      "source": [
        "## Imports"
      ],
      "metadata": {
        "id": "gZYFxL_o6r0C"
      }
    },
    {
      "cell_type": "code",
      "source": [
        "from IPython.display import Image, Audio\n",
        "import music21\n",
        "from music21 import *\n",
        "import warnings\n",
        "warnings.filterwarnings(\"ignore\")\n",
        "warnings.simplefilter(\"ignore\")\n",
        "import os"
      ],
      "metadata": {
        "id": "qKeFwmVl6pu8"
      },
      "execution_count": 19,
      "outputs": []
    },
    {
      "cell_type": "markdown",
      "source": [
        "## Loading the list of chopin's midi files as stream\n",
        "\n",
        "First we make a list of all the songs in the Chopin folder parsed as music21 stream. Then create a function to extract chords and notes out of the data creating a corpus."
      ],
      "metadata": {
        "id": "BLus03wXAflz"
      }
    },
    {
      "cell_type": "code",
      "source": [
        "from google.colab import drive\n",
        "drive.mount('/content/drive')"
      ],
      "metadata": {
        "colab": {
          "base_uri": "https://localhost:8080/"
        },
        "id": "nB71r1USFXBY",
        "outputId": "61e9e1cc-18e9-4dc8-8c75-88fa5dbb12d7"
      },
      "execution_count": 20,
      "outputs": [
        {
          "output_type": "stream",
          "name": "stdout",
          "text": [
            "Drive already mounted at /content/drive; to attempt to forcibly remount, call drive.mount(\"/content/drive\", force_remount=True).\n"
          ]
        }
      ]
    },
    {
      "cell_type": "code",
      "source": [
        "filepath = \"/content/drive/MyDrive/AAI511/Composer_Dataset/NN_midi_files_extended/dev/chopin/\"\n",
        "#Getting midi files and converting to midi\n",
        "all_midis= []\n",
        "for i in os.listdir(filepath):\n",
        "    if i.endswith(\".mid\"):\n",
        "        tr = filepath+i\n",
        "        midi = converter.parse(tr)\n",
        "        all_midis.append(midi)"
      ],
      "metadata": {
        "id": "2xjoeKOw72Mw"
      },
      "execution_count": 21,
      "outputs": []
    },
    {
      "cell_type": "code",
      "source": [
        "#@title Function to get the notes\n",
        "def extract_notes(file):\n",
        "    notes = []\n",
        "    pick = None\n",
        "    for j in file:\n",
        "        songs = instrument.partitionByInstrument(j)\n",
        "        for part in songs.parts:\n",
        "            pick = part.recurse()\n",
        "            for element in pick:\n",
        "                if isinstance(element, note.Note):\n",
        "                    notes.append(str(element.pitch))\n",
        "                elif isinstance(element, chord.Chord):\n",
        "                    notes.append(\".\".join(str(n) for n in element.normalOrder))\n",
        "\n",
        "    return notes\n",
        "#Getting the list of notes as Corpus\n",
        "data_notes = extract_notes(all_midis)\n",
        "print(\"Total notes in all the Chopin midis in the dataset:\", len(data_notes))"
      ],
      "metadata": {
        "colab": {
          "base_uri": "https://localhost:8080/"
        },
        "id": "99HG315Y9dYt",
        "outputId": "5e7f9fa3-0a96-4539-bf0f-2df23ee2dbfa"
      },
      "execution_count": 22,
      "outputs": [
        {
          "output_type": "stream",
          "name": "stdout",
          "text": [
            "Total notes in all the Chopin midis in the dataset: 5212\n"
          ]
        }
      ]
    },
    {
      "cell_type": "markdown",
      "source": [
        "## Explore the data"
      ],
      "metadata": {
        "id": "H_Fjc4FqAwh_"
      }
    },
    {
      "cell_type": "code",
      "source": [
        "print(\"First 25 values in the notes:\", data_notes[:25])"
      ],
      "metadata": {
        "colab": {
          "base_uri": "https://localhost:8080/"
        },
        "id": "6ILmuP0xA3fT",
        "outputId": "b2563422-4f57-4ad0-b0bd-85a09265c51f"
      },
      "execution_count": 23,
      "outputs": [
        {
          "output_type": "stream",
          "name": "stdout",
          "text": [
            "First 25 values in the notes: ['5', '0.3.5', 'G4', 'A4', '0.3.5', '10', '10.0.2.5', 'D5', 'D5', '10.3', 'F5', '3', 'G5', 'A5', 'G3', '10.3', '10.0', '7.0', '10.0', 'B-5', 'A5', 'G5', '5.10', 'B-2', '10.2.5']\n"
          ]
        }
      ]
    },
    {
      "cell_type": "code",
      "source": [],
      "metadata": {
        "id": "bdxB1H0tJLxa"
      },
      "execution_count": null,
      "outputs": []
    }
  ]
}